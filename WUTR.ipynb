{
 "cells": [
  {
   "cell_type": "code",
   "execution_count": 1,
   "metadata": {},
   "outputs": [],
   "source": [
    "import Pythologic\n",
    "from Pythologic import *"
   ]
  },
  {
   "cell_type": "code",
   "execution_count": 13,
   "metadata": {},
   "outputs": [
    {
     "name": "stdout",
     "output_type": "stream",
     "text": [
      "Igorance!.. Boring!\n",
      "- - - - - - - - - - - - - - - - - - - - - - - - - \n",
      "Attention about something! \n",
      "These are beans!\n",
      "They are Save! Let us start Aquiring Knowledge...\n",
      "- - - - - - - - - - - - - - - - - - - - - - - - - \n",
      "They are from the bag!.. This is the Case!\n",
      "- - - - - - - - - - - - - - - - - - - - - - - - - \n",
      "They are white!.. This is the Result!\n",
      "- - - - - - - - - - - - - - - - - - - - - - - - - \n",
      "So, If they are from the bag, then they are white!.. This is Induction!\n",
      "- - - - - - - - - - - - - - - - - - - - - - - - - \n",
      "Just celebrating the added rule!.. This is the Rule\n",
      "= = = = = = = = = = = = = = = = = = = = = = = = = \n",
      "Let us enjoy validification of the rule!\n",
      "\tGrap those beans from the bag and see. \n",
      "\tAre they white?\n",
      "This is Deduction\n",
      "- - - - - - - - - - - - - - - - - - - - - - - - - \n",
      "Things are getting interesting.. What about other beans?\n",
      "\tGrap other white beans from anywhere else. \n",
      "\tCould you bet on them being from the bag?\n",
      "This is Abduction\n",
      "- - - - - - - - - - - - - - - - - - - - - - - - - \n",
      "This is wisdom!\n",
      "* * * * * * * * * * * * * * * * * * * * * * * * * \n",
      "\n",
      "globally(['these', 'those', 'others']) .\n",
      "beans(these) .\n",
      "from_the_bag(these) .\n",
      "white(these) .\n",
      "beans(those) .\n",
      "from_the_bag(those) .\n",
      "beans(others) .\n",
      "white(others) .\n",
      "white(?X) :- beans(?X) , from_the_bag(?X) .\n"
     ]
    }
   ],
   "source": [
    "print \"Igorance!.. Boring!\"\n",
    "print '- '*25\n",
    "print \"Attention about something! \"\n",
    "my_memory = Database()\n",
    "attention_pins = [\"these\"]\n",
    "@logical(my_memory)\n",
    "def logic_func():\n",
    "    # unary plus defines a fact\n",
    "    + globally(attention_pins)\n",
    "\n",
    "    #x=raw_input(\"Please enter the object you are curious about:\")\n",
    "    print \"These are beans!\"\n",
    "    print \"They are Save! Let us start Aquiring Knowledge...\"\n",
    "    + beans(these)\n",
    "\n",
    "    print '- '*25\n",
    "    print \"They are from the bag!.. This is the Case!\"\n",
    "    + from_the_bag(these)\n",
    "    \n",
    "    print '- '*25\n",
    "    print \"They are white!.. This is the Result!\"\n",
    "    + white(these)\n",
    "    print '- '*25\n",
    "    print \"So, If they are from the bag, then they are white!.. This is Induction!\"\n",
    "    # left-shift defines a conditional.\n",
    "    white(X) << [ beans(X), from_the_bag(X) ]\n",
    "    \n",
    "    print '- '*25\n",
    "    print \"Just celebrating the added rule!.. This is the Rule\"\n",
    "    \n",
    "    print '= '*25\n",
    "    print \"Let us enjoy validification of the rule!\"\n",
    "    print \"\\tGrap those beans from the bag and see. \"\n",
    "    attention_pins.append(\"those\")\n",
    "    + beans(those)\n",
    "    + from_the_bag(those)\n",
    "    print \"\\tAre they white?\"\n",
    "    unify(white(those))\n",
    "    print \"This is Deduction\"\n",
    "    print '- '*25\n",
    "    print \"Things are getting interesting.. What about other beans?\"\n",
    "    print \"\\tGrap other white beans from anywhere else. \"\n",
    "    attention_pins.append(\"others\")\n",
    "    + beans(others)\n",
    "    + white(others)\n",
    "    print \"\\tCould you bet on them being from the bag?\"\n",
    "    hypothesis(from_the_bag(others))\n",
    "    print \"This is Abduction\"\n",
    "    print '- '*25\n",
    "    print \"This is wisdom!\"\n",
    "    \n",
    "# For Pre-2.4, replace the @logical decorator with this line:\n",
    "# logic_func = my_memory.consult_and_transform(logic_func)\n",
    "#print \"Done.\"\n",
    "#print \"Definition has already updated the database as follows:\"\n",
    "print '* '*25\n",
    "print\n",
    "my_memory.prt()\n",
    "#print\n",
    "#print \"Trying to call the logical function raises an error:\"\n",
    "#print\n",
    "#logic_func()"
   ]
  },
  {
   "cell_type": "code",
   "execution_count": 8,
   "metadata": {},
   "outputs": [
    {
     "data": {
      "text/plain": [
       "6"
      ]
     },
     "execution_count": 8,
     "metadata": {},
     "output_type": "execute_result"
    }
   ],
   "source": [
    "len(my_memory.facts)"
   ]
  },
  {
   "cell_type": "code",
   "execution_count": 9,
   "metadata": {},
   "outputs": [
    {
     "data": {
      "text/plain": [
       "1"
      ]
     },
     "execution_count": 9,
     "metadata": {},
     "output_type": "execute_result"
    }
   ],
   "source": [
    "len(my_memory.conditionals)"
   ]
  },
  {
   "cell_type": "code",
   "execution_count": 5,
   "metadata": {},
   "outputs": [
    {
     "data": {
      "text/plain": [
       "<Pythologic.Database instance at 0x037C12D8>"
      ]
     },
     "execution_count": 5,
     "metadata": {},
     "output_type": "execute_result"
    }
   ],
   "source": [
    "my_memory"
   ]
  }
 ],
 "metadata": {
  "kernelspec": {
   "display_name": "Python 2",
   "language": "python",
   "name": "python2"
  },
  "language_info": {
   "codemirror_mode": {
    "name": "ipython",
    "version": 2
   },
   "file_extension": ".py",
   "mimetype": "text/x-python",
   "name": "python",
   "nbconvert_exporter": "python",
   "pygments_lexer": "ipython2",
   "version": "2.7.14"
  }
 },
 "nbformat": 4,
 "nbformat_minor": 2
}
